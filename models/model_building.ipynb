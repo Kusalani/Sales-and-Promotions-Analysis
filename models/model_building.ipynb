{
 "cells": [
  {
   "cell_type": "code",
   "execution_count": 1,
   "metadata": {},
   "outputs": [],
   "source": [
    "import pandas as pd\n",
    "import numpy as np\n",
    "from sklearn.preprocessing import StandardScaler\n",
    "from collections import defaultdict\n"
   ]
  },
  {
   "cell_type": "code",
   "execution_count": 2,
   "metadata": {},
   "outputs": [],
   "source": [
    "class RetailEnvironment:\n",
    "    def __init__(self, data):\n",
    "        self.data = data\n",
    "        self.current_step = 0\n",
    "        self.scaler = StandardScaler()\n",
    "        self.scaled_data = self.scaler.fit_transform(self.data[['amount', 'units', 'total_sales']])\n",
    "        \n",
    "    def reset(self):\n",
    "        self.current_step = 0\n",
    "        return self._get_state()\n",
    "    \n",
    "    def step(self, action):\n",
    "        # Action: 0 = lower price, 1 = keep price, 2 = raise price\n",
    "        current_sale = self.scaled_data[self.current_step]\n",
    "        \n",
    "        if action == 0:\n",
    "            reward = current_sale[2] * 0.9  # Lower price might increase sales but decrease profit\n",
    "        elif action == 2:\n",
    "            reward = current_sale[2] * 1.1  # Higher price might decrease sales but increase profit\n",
    "        else:\n",
    "            reward = current_sale[2]  # Keeping price stable\n",
    "        \n",
    "        self.current_step += 1\n",
    "        done = self.current_step >= len(self.scaled_data)\n",
    "        \n",
    "        return self._get_state(), reward, done\n",
    "    \n",
    "    def _get_state(self):\n",
    "        if self.current_step >= len(self.scaled_data):\n",
    "            return np.zeros(3)\n",
    "        return self.scaled_data[self.current_step]"
   ]
  },
  {
   "cell_type": "code",
   "execution_count": 3,
   "metadata": {},
   "outputs": [],
   "source": [
    "class QLearningAgent:\n",
    "    def __init__(self, state_size, action_size, learning_rate=0.1, discount_factor=0.95, epsilon=0.1):\n",
    "        self.q_table = defaultdict(lambda: np.zeros(action_size))\n",
    "        self.learning_rate = learning_rate\n",
    "        self.discount_factor = discount_factor\n",
    "        self.epsilon = epsilon\n",
    "        self.action_size = action_size\n",
    "    \n",
    "    def get_action(self, state):\n",
    "        if np.random.rand() < self.epsilon:\n",
    "            return np.random.randint(self.action_size)\n",
    "        return np.argmax(self.q_table[tuple(state)])\n",
    "    \n",
    "    def update(self, state, action, reward, next_state):\n",
    "        current_q = self.q_table[tuple(state)][action]\n",
    "        next_max_q = np.max(self.q_table[tuple(next_state)])\n",
    "        new_q = current_q + self.learning_rate * (reward + self.discount_factor * next_max_q - current_q)\n",
    "        self.q_table[tuple(state)][action] = new_q\n"
   ]
  },
  {
   "cell_type": "code",
   "execution_count": 4,
   "metadata": {},
   "outputs": [],
   "source": [
    "def train(env, agent, episodes):\n",
    "    for episode in range(episodes):\n",
    "        state = env.reset()\n",
    "        done = False\n",
    "        total_reward = 0\n",
    "        \n",
    "        while not done:\n",
    "            action = agent.get_action(state)\n",
    "            next_state, reward, done = env.step(action)\n",
    "            agent.update(state, action, reward, next_state)\n",
    "            state = next_state\n",
    "            total_reward += reward\n",
    "        \n",
    "        if episode % 100 == 0:\n",
    "            print(f\"Episode {episode}, Total Reward: {total_reward}\")"
   ]
  },
  {
   "cell_type": "code",
   "execution_count": 5,
   "metadata": {},
   "outputs": [],
   "source": [
    "# Load and preprocess data\n",
    "data = pd.read_csv('../Data/prepared_sales_data.csv')  # Replace with your actual file name\n",
    "relevant_features = ['amount', 'units', 'total_sales']\n",
    "data = data[relevant_features]"
   ]
  },
  {
   "cell_type": "code",
   "execution_count": 6,
   "metadata": {},
   "outputs": [],
   "source": [
    "# Create environment and agent\n",
    "env = RetailEnvironment(data)\n",
    "agent = QLearningAgent(state_size=3, action_size=3)"
   ]
  },
  {
   "cell_type": "code",
   "execution_count": 7,
   "metadata": {},
   "outputs": [
    {
     "name": "stdout",
     "output_type": "stream",
     "text": [
      "Episode 0, Total Reward: 27597.990654651057\n",
      "Episode 100, Total Reward: 31423.78484045255\n",
      "Episode 200, Total Reward: 29795.674808005813\n",
      "Episode 300, Total Reward: 31992.984882472523\n",
      "Episode 400, Total Reward: 30843.186618884774\n",
      "Episode 500, Total Reward: 30166.97174502747\n",
      "Episode 600, Total Reward: 30115.199668913567\n",
      "Episode 700, Total Reward: 30082.56163507632\n",
      "Episode 800, Total Reward: 30530.2654191619\n",
      "Episode 900, Total Reward: 30442.764910130856\n"
     ]
    }
   ],
   "source": [
    "# Train the agent\n",
    "train(env, agent, episodes=1000)"
   ]
  },
  {
   "cell_type": "code",
   "execution_count": 8,
   "metadata": {},
   "outputs": [
    {
     "name": "stdout",
     "output_type": "stream",
     "text": [
      "Total reward with trained agent: 12154.051262385985\n"
     ]
    }
   ],
   "source": [
    "# Example of using the trained agent\n",
    "state = env.reset()\n",
    "done = False\n",
    "total_reward = 0\n",
    "while not done:\n",
    "    action = agent.get_action(state)\n",
    "    next_state, reward, done = env.step(action)\n",
    "    total_reward += reward\n",
    "    state = next_state\n",
    "print(f\"Total reward with trained agent: {total_reward}\")"
   ]
  }
 ],
 "metadata": {
  "kernelspec": {
   "display_name": "myenv",
   "language": "python",
   "name": "python3"
  },
  "language_info": {
   "codemirror_mode": {
    "name": "ipython",
    "version": 3
   },
   "file_extension": ".py",
   "mimetype": "text/x-python",
   "name": "python",
   "nbconvert_exporter": "python",
   "pygments_lexer": "ipython3",
   "version": "3.11.5"
  }
 },
 "nbformat": 4,
 "nbformat_minor": 2
}
