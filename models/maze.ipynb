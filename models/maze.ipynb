{
 "cells": [
  {
   "cell_type": "code",
   "execution_count": 1,
   "metadata": {},
   "outputs": [],
   "source": [
    "import numpy as np\n",
    "import matplotlib.pyplot as plt\n",
    "import time\n"
   ]
  },
  {
   "cell_type": "code",
   "execution_count": 2,
   "metadata": {},
   "outputs": [],
   "source": [
    "class Maze:\n",
    "    def __init__(self, maze, start_position, goal_position):\n",
    "        self.maze = maze\n",
    "        self.maze_height, self.maze_width = maze.shape #get height and width of the maze\n",
    "        self.start_position = start_position#set start position as tuple\n",
    "        self.goal_position = goal_position\n",
    "\n",
    "    def show_maze(self):\n",
    "        plt.figure(figsize=(5, 5))\n",
    "        plt.imshow(self.maze, cmap='gray')\n",
    "        #add start and end position 'S' & 'G'\n",
    "        plt.text(self.start_position[1], self.start_position[0], 'S', ha='center', va='center', color='red', fontsize=20)\n",
    "        plt.text(self.goal_position[1], self.goal_position[0], 'G', ha='center', va='center', color='green', fontsize=20)\n",
    "        plt.xticks([]), plt.yticks([])\n",
    "        plt.show()\n"
   ]
  },
  {
   "cell_type": "code",
   "execution_count": 3,
   "metadata": {},
   "outputs": [],
   "source": [
    "# Actions: Up, Down, Left, Right\n",
    "actions = [(-1, 0), (1, 0), (0, -1), (0, 1)]\n"
   ]
  },
  {
   "cell_type": "code",
   "execution_count": 4,
   "metadata": {},
   "outputs": [
    {
     "data": {
      "image/png": "[encoded data removed]",
      "text/plain": [
       "<Figure size 500x500 with 1 Axes>"
      ]
     },
     "metadata": {},
     "output_type": "display_data"
    }
   ],
   "source": [
    "# Create any maze \n",
    "maze_layout = np.array([\n",
    "    [0, 0, 0, 0, 0, 0, 0, 0, 0, 0],\n",
    "    [0, 1, 0, 1, 1, 1, 1, 1, 1, 0],\n",
    "    [0, 1, 1, 1, 0, 1, 1, 0, 1, 0],\n",
    "    [0, 0, 0, 1, 0, 1, 0, 0, 1, 0],\n",
    "    [0, 1, 1, 1, 1, 1, 1, 1, 1, 0],\n",
    "    [0, 1, 0, 1, 0, 0, 0, 0, 0, 0],\n",
    "    [0, 1, 0, 1, 0, 1, 1, 1, 1, 0],\n",
    "    [0, 1, 0, 0, 0, 1, 0, 0, 1, 0],\n",
    "    [0, 1, 1, 1, 1, 1, 1, 0, 1, 0],\n",
    "    [0, 0, 0, 0, 0, 0, 0, 0, 0, 0]\n",
    "])\n",
    "\n",
    "# Create an instance of the maze and set the starting and ending positions\n",
    "maze = Maze(maze_layout, (1, 1), (8, 8))\n",
    "maze.show_maze()"
   ]
  },
  {
   "cell_type": "code",
   "execution_count": 5,
   "metadata": {},
   "outputs": [],
   "source": [
    "class QLearningAgent:\n",
    "    def __init__(self, maze, learning_rate=0.1, discount_factor=0.9, exploration_start=1.0, exploration_end=0.01, num_episodes=100):\n",
    "        self.q_table = np.zeros((maze.maze_height, maze.maze_width, 4))\n",
    "        self.learning_rate = learning_rate\n",
    "        self.discount_factor = discount_factor\n",
    "        self.exploration_start = exploration_start\n",
    "        self.exploration_end = exploration_end\n",
    "        self.num_episodes = num_episodes\n",
    "\n",
    "    def get_exploration_rate(self, current_episode):\n",
    "        return self.exploration_start * (self.exploration_end / self.exploration_start) ** (current_episode / self.num_episodes)\n",
    "\n",
    "    def get_action(self, state, current_episode):\n",
    "        exploration_rate = self.get_exploration_rate(current_episode)\n",
    "        if np.random.rand() < exploration_rate:\n",
    "            return np.random.randint(4)\n",
    "        else:\n",
    "            return np.argmax(self.q_table[state])\n",
    "\n",
    "    def update_q_table(self, state, action, next_state, reward):\n",
    "        best_next_action = np.argmax(self.q_table[next_state])\n",
    "        current_q_value = self.q_table[state][action]\n",
    "        new_q_value = current_q_value + self.learning_rate * (reward + self.discount_factor * self.q_table[next_state][best_next_action] - current_q_value)\n",
    "        self.q_table[state][action] = new_q_value"
   ]
  },
  {
   "cell_type": "code",
   "execution_count": 6,
   "metadata": {},
   "outputs": [],
   "source": [
    "#reward system\n",
    "goal_reward = 100\n",
    "wall_penalty = -10\n",
    "step_penalty = -1"
   ]
  },
  {
   "cell_type": "code",
   "execution_count": 7,
   "metadata": {},
   "outputs": [],
   "source": [
    "def finish_episode(agent, maze, current_episode, train=True):\n",
    "    current_state = maze.start_position\n",
    "    is_done = False\n",
    "    episode_reward = 0\n",
    "    episode_step = 0\n",
    "    path = [current_state]\n",
    "\n",
    "    while not is_done:\n",
    "        action = agent.get_action(current_state, current_episode)\n",
    "        next_state = (current_state[0] + actions[action][0], current_state[1] + actions[action][1])\n",
    "\n",
    "        if (next_state[0] < 0 or next_state[0] >= maze.maze_height or \n",
    "            next_state[1] < 0 or next_state[1] >= maze.maze_width or \n",
    "            maze.maze[next_state[0]][next_state[1]] == 1):\n",
    "            reward = wall_penalty\n",
    "            next_state = current_state\n",
    "        elif next_state == maze.goal_position:\n",
    "            path.append(next_state)\n",
    "            reward = goal_reward\n",
    "            is_done = True\n",
    "        else:\n",
    "            path.append(next_state)\n",
    "            reward = step_penalty\n",
    "\n",
    "        episode_reward += reward\n",
    "        episode_step += 1\n",
    "\n",
    "        if train:\n",
    "            agent.update_q_table(current_state, action, next_state, reward)\n",
    "\n",
    "        current_state = next_state\n",
    "\n",
    "    return episode_reward, episode_step, path"
   ]
  },
  {
   "cell_type": "code",
   "execution_count": 8,
   "metadata": {},
   "outputs": [],
   "source": [
    "def test_agent(agent, maze, num_episodes=1):\n",
    "    episode_reward, episode_step, path = finish_episode(agent, maze, num_episodes, train=False)\n",
    "\n",
    "    print(\"Learned Path:\")\n",
    "    for row, col in path:\n",
    "        print(f\"({row}, {col}) -> \", end='')\n",
    "    print(\"Goal!\")\n",
    "\n",
    "    print(f\"Number of steps: {episode_step}\")\n",
    "    print(f\"Total reward: {episode_reward}\")\n",
    "\n",
    "    plt.figure(figsize=(5, 5))\n",
    "    plt.imshow(maze.maze, cmap='gray')\n",
    "    plt.text(maze.start_position[1], maze.start_position[0], 'S', ha='center', va='center', color='red', fontsize=20)\n",
    "    plt.text(maze.goal_position[1], maze.goal_position[0], 'G', ha='center', va='center', color='green', fontsize=20)\n",
    "\n",
    "    for position in path:\n",
    "        plt.text(position[1], position[0], \"#\", ha='center', va='center', color='blue', fontsize=20)\n",
    "\n",
    "    plt.xticks([]), plt.yticks([])\n",
    "    plt.grid(color='black', linewidth=2)\n",
    "    plt.show()\n",
    "\n",
    "    return episode_step, episode_reward\n"
   ]
  },
  {
   "cell_type": "code",
   "execution_count": 9,
   "metadata": {},
   "outputs": [],
   "source": [
    "def train_agent(agent, maze, num_episodes=100):\n",
    "    episode_rewards = []\n",
    "    episode_steps = []\n",
    "\n",
    "    for episode in range(num_episodes):\n",
    "        episode_reward, episode_step, _ = finish_episode(agent, maze, episode, train=True)\n",
    "        episode_rewards.append(episode_reward)\n",
    "        episode_steps.append(episode_step)\n",
    "\n",
    "    plt.figure(figsize=(10, 5))\n",
    "\n",
    "    plt.subplot(1, 2, 1)\n",
    "    plt.plot(episode_rewards)\n",
    "    plt.xlabel('Episode')\n",
    "    plt.ylabel('Cumulative Reward')\n",
    "    plt.title('Reward per Episode')\n",
    "\n",
    "    average_reward = sum(episode_rewards) / len(episode_rewards)\n",
    "    print(f\"The average reward is: {average_reward:.2f}\")\n",
    "\n",
    "    plt.subplot(1, 2, 2)\n",
    "    plt.plot(episode_steps)\n",
    "    plt.xlabel('Episode')\n",
    "    plt.ylabel('Steps Taken')\n",
    "    plt.ylim(0, max(episode_steps))\n",
    "    plt.title('Steps per Episode')\n",
    "\n",
    "    average_steps = sum(episode_steps) / len(episode_steps)\n",
    "    print(f\"The average number of steps is: {average_steps:.2f}\")\n",
    "\n",
    "    plt.tight_layout()\n",
    "    plt.show()"
   ]
  },
  {
   "cell_type": "code",
   "execution_count": 10,
   "metadata": {},
   "outputs": [],
   "source": [
    "agent = QLearningAgent(maze)\n"
   ]
  },
  {
   "cell_type": "code",
   "execution_count": 12,
   "metadata": {},
   "outputs": [
    {
     "ename": "",
     "evalue": "",
     "output_type": "error",
     "traceback": [
      "\u001b[1;31mThe Kernel crashed while executing code in the current cell or a previous cell. \n",
      "\u001b[1;31mPlease review the code in the cell(s) to identify a possible cause of the failure. \n",
      "\u001b[1;31mClick <a href='https://aka.ms/vscodeJupyterKernelCrash'>here</a> for more info. \n",
      "\u001b[1;31mView Jupyter <a href='command:jupyter.viewOutput'>log</a> for further details."
     ]
    }
   ],
   "source": [
    "# Training the agent\n",
    "train_agent(agent, maze, num_episodes=100)"
   ]
  },
  {
   "cell_type": "code",
   "execution_count": null,
   "metadata": {},
   "outputs": [],
   "source": [
    "# Testing the agent after training\n",
    "test_agent(agent, maze, num_episodes=100)"
   ]
  }
 ],
 "metadata": {
  "kernelspec": {
   "display_name": "myenv",
   "language": "python",
   "name": "python3"
  },
  "language_info": {
   "codemirror_mode": {
    "name": "ipython",
    "version": 3
   },
   "file_extension": ".py",
   "mimetype": "text/x-python",
   "name": "python",
   "nbconvert_exporter": "python",
   "pygments_lexer": "ipython3",
   "version": "3.11.5"
  }
 },
 "nbformat": 4,
 "nbformat_minor": 2
}
